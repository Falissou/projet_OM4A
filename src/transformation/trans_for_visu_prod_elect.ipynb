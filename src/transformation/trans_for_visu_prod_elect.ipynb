{
 "cells": [
  {
   "cell_type": "markdown",
   "id": "32a8843d",
   "metadata": {},
   "source": [
    "# Notebook pour la transformation des donnée de la production d'électicité pour la visualisation"
   ]
  },
  {
   "cell_type": "code",
   "execution_count": 5,
   "id": "c2c9e188",
   "metadata": {},
   "outputs": [],
   "source": [
    "import pandas as pd\n",
    "import numpy as np"
   ]
  },
  {
   "cell_type": "code",
   "execution_count": 18,
   "id": "9659bfab",
   "metadata": {},
   "outputs": [
    {
     "data": {
      "text/html": [
       "<div>\n",
       "<style scoped>\n",
       "    .dataframe tbody tr th:only-of-type {\n",
       "        vertical-align: middle;\n",
       "    }\n",
       "\n",
       "    .dataframe tbody tr th {\n",
       "        vertical-align: top;\n",
       "    }\n",
       "\n",
       "    .dataframe thead th {\n",
       "        text-align: right;\n",
       "    }\n",
       "</style>\n",
       "<table border=\"1\" class=\"dataframe\">\n",
       "  <thead>\n",
       "    <tr style=\"text-align: right;\">\n",
       "      <th></th>\n",
       "      <th>countryRegionName</th>\n",
       "      <th>period</th>\n",
       "      <th>productName</th>\n",
       "      <th>value</th>\n",
       "    </tr>\n",
       "  </thead>\n",
       "  <tbody>\n",
       "    <tr>\n",
       "      <th>0</th>\n",
       "      <td>Benin</td>\n",
       "      <td>2023</td>\n",
       "      <td>Nuclear</td>\n",
       "      <td>0.000</td>\n",
       "    </tr>\n",
       "    <tr>\n",
       "      <th>1</th>\n",
       "      <td>Benin</td>\n",
       "      <td>2022</td>\n",
       "      <td>Nuclear</td>\n",
       "      <td>0.000</td>\n",
       "    </tr>\n",
       "    <tr>\n",
       "      <th>2</th>\n",
       "      <td>Benin</td>\n",
       "      <td>2021</td>\n",
       "      <td>Nuclear</td>\n",
       "      <td>0.000</td>\n",
       "    </tr>\n",
       "    <tr>\n",
       "      <th>3</th>\n",
       "      <td>Benin</td>\n",
       "      <td>2020</td>\n",
       "      <td>Nuclear</td>\n",
       "      <td>0.000</td>\n",
       "    </tr>\n",
       "    <tr>\n",
       "      <th>4</th>\n",
       "      <td>Benin</td>\n",
       "      <td>2019</td>\n",
       "      <td>Nuclear</td>\n",
       "      <td>0.000</td>\n",
       "    </tr>\n",
       "    <tr>\n",
       "      <th>...</th>\n",
       "      <td>...</td>\n",
       "      <td>...</td>\n",
       "      <td>...</td>\n",
       "      <td>...</td>\n",
       "    </tr>\n",
       "    <tr>\n",
       "      <th>95</th>\n",
       "      <td>Benin</td>\n",
       "      <td>2016</td>\n",
       "      <td>Natural gas</td>\n",
       "      <td>0.007</td>\n",
       "    </tr>\n",
       "    <tr>\n",
       "      <th>96</th>\n",
       "      <td>Benin</td>\n",
       "      <td>2015</td>\n",
       "      <td>Natural gas</td>\n",
       "      <td>0.111</td>\n",
       "    </tr>\n",
       "    <tr>\n",
       "      <th>97</th>\n",
       "      <td>Benin</td>\n",
       "      <td>2014</td>\n",
       "      <td>Natural gas</td>\n",
       "      <td>0.104</td>\n",
       "    </tr>\n",
       "    <tr>\n",
       "      <th>98</th>\n",
       "      <td>Benin</td>\n",
       "      <td>2013</td>\n",
       "      <td>Natural gas</td>\n",
       "      <td>0.038</td>\n",
       "    </tr>\n",
       "    <tr>\n",
       "      <th>99</th>\n",
       "      <td>Benin</td>\n",
       "      <td>2012</td>\n",
       "      <td>Natural gas</td>\n",
       "      <td>0.000</td>\n",
       "    </tr>\n",
       "  </tbody>\n",
       "</table>\n",
       "<p>100 rows × 4 columns</p>\n",
       "</div>"
      ],
      "text/plain": [
       "   countryRegionName  period  productName  value\n",
       "0              Benin    2023      Nuclear  0.000\n",
       "1              Benin    2022      Nuclear  0.000\n",
       "2              Benin    2021      Nuclear  0.000\n",
       "3              Benin    2020      Nuclear  0.000\n",
       "4              Benin    2019      Nuclear  0.000\n",
       "..               ...     ...          ...    ...\n",
       "95             Benin    2016  Natural gas  0.007\n",
       "96             Benin    2015  Natural gas  0.111\n",
       "97             Benin    2014  Natural gas  0.104\n",
       "98             Benin    2013  Natural gas  0.038\n",
       "99             Benin    2012  Natural gas  0.000\n",
       "\n",
       "[100 rows x 4 columns]"
      ]
     },
     "execution_count": 18,
     "metadata": {},
     "output_type": "execute_result"
    }
   ],
   "source": [
    "# import du fichier excel\n",
    "data = pd.read_excel('/Users/yibtv/Espace-travail/projet_OM4A/data/raw/prod_elect_fromEIA.xlsx')\n",
    "# affichage\n",
    "data.head(100)"
   ]
  },
  {
   "cell_type": "code",
   "execution_count": 19,
   "id": "bd2e6449",
   "metadata": {},
   "outputs": [
    {
     "name": "stdout",
     "output_type": "stream",
     "text": [
      "countryRegionName      0\n",
      "period                 0\n",
      "productName            0\n",
      "value                960\n",
      "dtype: int64\n"
     ]
    }
   ],
   "source": [
    "print(data.isna().sum())"
   ]
  },
  {
   "cell_type": "code",
   "execution_count": 20,
   "id": "e915b4ee",
   "metadata": {},
   "outputs": [
    {
     "data": {
      "text/html": [
       "<div>\n",
       "<style scoped>\n",
       "    .dataframe tbody tr th:only-of-type {\n",
       "        vertical-align: middle;\n",
       "    }\n",
       "\n",
       "    .dataframe tbody tr th {\n",
       "        vertical-align: top;\n",
       "    }\n",
       "\n",
       "    .dataframe thead th {\n",
       "        text-align: right;\n",
       "    }\n",
       "</style>\n",
       "<table border=\"1\" class=\"dataframe\">\n",
       "  <thead>\n",
       "    <tr style=\"text-align: right;\">\n",
       "      <th></th>\n",
       "      <th>country</th>\n",
       "      <th>year</th>\n",
       "      <th>technology</th>\n",
       "      <th>value(GWh)</th>\n",
       "    </tr>\n",
       "  </thead>\n",
       "  <tbody>\n",
       "    <tr>\n",
       "      <th>0</th>\n",
       "      <td>Benin</td>\n",
       "      <td>2023</td>\n",
       "      <td>Nuclear</td>\n",
       "      <td>0.0</td>\n",
       "    </tr>\n",
       "    <tr>\n",
       "      <th>1</th>\n",
       "      <td>Benin</td>\n",
       "      <td>2022</td>\n",
       "      <td>Nuclear</td>\n",
       "      <td>0.0</td>\n",
       "    </tr>\n",
       "    <tr>\n",
       "      <th>2</th>\n",
       "      <td>Benin</td>\n",
       "      <td>2021</td>\n",
       "      <td>Nuclear</td>\n",
       "      <td>0.0</td>\n",
       "    </tr>\n",
       "    <tr>\n",
       "      <th>3</th>\n",
       "      <td>Benin</td>\n",
       "      <td>2020</td>\n",
       "      <td>Nuclear</td>\n",
       "      <td>0.0</td>\n",
       "    </tr>\n",
       "    <tr>\n",
       "      <th>4</th>\n",
       "      <td>Benin</td>\n",
       "      <td>2019</td>\n",
       "      <td>Nuclear</td>\n",
       "      <td>0.0</td>\n",
       "    </tr>\n",
       "    <tr>\n",
       "      <th>...</th>\n",
       "      <td>...</td>\n",
       "      <td>...</td>\n",
       "      <td>...</td>\n",
       "      <td>...</td>\n",
       "    </tr>\n",
       "    <tr>\n",
       "      <th>135</th>\n",
       "      <td>Benin</td>\n",
       "      <td>2020</td>\n",
       "      <td>Oil</td>\n",
       "      <td>232.6</td>\n",
       "    </tr>\n",
       "    <tr>\n",
       "      <th>136</th>\n",
       "      <td>Benin</td>\n",
       "      <td>2019</td>\n",
       "      <td>Oil</td>\n",
       "      <td>205.9</td>\n",
       "    </tr>\n",
       "    <tr>\n",
       "      <th>137</th>\n",
       "      <td>Benin</td>\n",
       "      <td>2018</td>\n",
       "      <td>Oil</td>\n",
       "      <td>134.0</td>\n",
       "    </tr>\n",
       "    <tr>\n",
       "      <th>138</th>\n",
       "      <td>Benin</td>\n",
       "      <td>2017</td>\n",
       "      <td>Oil</td>\n",
       "      <td>184.6</td>\n",
       "    </tr>\n",
       "    <tr>\n",
       "      <th>139</th>\n",
       "      <td>Benin</td>\n",
       "      <td>2016</td>\n",
       "      <td>Oil</td>\n",
       "      <td>259.0</td>\n",
       "    </tr>\n",
       "  </tbody>\n",
       "</table>\n",
       "<p>100 rows × 4 columns</p>\n",
       "</div>"
      ],
      "text/plain": [
       "    country  year technology  value(GWh)\n",
       "0     Benin  2023    Nuclear         0.0\n",
       "1     Benin  2022    Nuclear         0.0\n",
       "2     Benin  2021    Nuclear         0.0\n",
       "3     Benin  2020    Nuclear         0.0\n",
       "4     Benin  2019    Nuclear         0.0\n",
       "..      ...   ...        ...         ...\n",
       "135   Benin  2020        Oil       232.6\n",
       "136   Benin  2019        Oil       205.9\n",
       "137   Benin  2018        Oil       134.0\n",
       "138   Benin  2017        Oil       184.6\n",
       "139   Benin  2016        Oil       259.0\n",
       "\n",
       "[100 rows x 4 columns]"
      ]
     },
     "execution_count": 20,
     "metadata": {},
     "output_type": "execute_result"
    }
   ],
   "source": [
    "# supresion des ligne sans valeur \n",
    "data = data.dropna()\n",
    "\n",
    "#changement des noms de colonne \n",
    "data = data.rename (columns={\n",
    "    'countryRegionName':  'country',\n",
    "    'period':'year',\n",
    "    'productName':'technology',\n",
    "    'value': 'value(GWh)'\n",
    "    })\n",
    "\n",
    "\n",
    "# Conversion de billion kWh en GWh\n",
    "data['value(GWh)'] = data['value(GWh)'] * 1000 \n",
    "\n",
    "data.head(100)"
   ]
  },
  {
   "cell_type": "markdown",
   "id": "cf1f9986",
   "metadata": {},
   "source": [
    "verification des valeur manquante"
   ]
  },
  {
   "cell_type": "code",
   "execution_count": 21,
   "id": "736ea795",
   "metadata": {},
   "outputs": [
    {
     "name": "stdout",
     "output_type": "stream",
     "text": [
      "country       0\n",
      "year          0\n",
      "technology    0\n",
      "value(GWh)    0\n",
      "dtype: int64\n"
     ]
    }
   ],
   "source": [
    "print(data.isnull().sum())"
   ]
  },
  {
   "cell_type": "markdown",
   "id": "32d3347f",
   "metadata": {},
   "source": [
    "# sauvegarde du Dataset dans le dossier data_visu"
   ]
  },
  {
   "cell_type": "code",
   "execution_count": 22,
   "id": "8c6f32c1",
   "metadata": {},
   "outputs": [
    {
     "name": "stdout",
     "output_type": "stream",
     "text": [
      "Donnée sauvegardée \n"
     ]
    }
   ],
   "source": [
    "# Sauvegarder dans un fichier excel\n",
    "data.to_excel('/Users/yibtv/Espace-travail/projet_OM4A/data/data_visu/prod_elect_for_visu.xlsx', index=False)\n",
    "print(\"Donnée sauvegardée \")"
   ]
  }
 ],
 "metadata": {
  "kernelspec": {
   "display_name": "venv",
   "language": "python",
   "name": "python3"
  },
  "language_info": {
   "codemirror_mode": {
    "name": "ipython",
    "version": 3
   },
   "file_extension": ".py",
   "mimetype": "text/x-python",
   "name": "python",
   "nbconvert_exporter": "python",
   "pygments_lexer": "ipython3",
   "version": "3.11.7"
  }
 },
 "nbformat": 4,
 "nbformat_minor": 5
}
