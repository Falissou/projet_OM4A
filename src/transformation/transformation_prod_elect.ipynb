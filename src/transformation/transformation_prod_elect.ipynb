{
 "cells": [
  {
   "cell_type": "markdown",
   "id": "fdef45eb",
   "metadata": {},
   "source": [
    "# Notebook pour la transformation des données liées a la production d'électricité"
   ]
  },
  {
   "cell_type": "code",
   "execution_count": 1,
   "id": "bf4ef642",
   "metadata": {},
   "outputs": [],
   "source": [
    "import pandas as pd\n",
    "import numpy as np\n"
   ]
  },
  {
   "cell_type": "code",
   "execution_count": 2,
   "id": "47e1bfcc",
   "metadata": {},
   "outputs": [
    {
     "data": {
      "text/html": [
       "<div>\n",
       "<style scoped>\n",
       "    .dataframe tbody tr th:only-of-type {\n",
       "        vertical-align: middle;\n",
       "    }\n",
       "\n",
       "    .dataframe tbody tr th {\n",
       "        vertical-align: top;\n",
       "    }\n",
       "\n",
       "    .dataframe thead th {\n",
       "        text-align: right;\n",
       "    }\n",
       "</style>\n",
       "<table border=\"1\" class=\"dataframe\">\n",
       "  <thead>\n",
       "    <tr style=\"text-align: right;\">\n",
       "      <th></th>\n",
       "      <th>countryRegionName</th>\n",
       "      <th>period</th>\n",
       "      <th>productName</th>\n",
       "      <th>value</th>\n",
       "    </tr>\n",
       "  </thead>\n",
       "  <tbody>\n",
       "    <tr>\n",
       "      <th>0</th>\n",
       "      <td>Benin</td>\n",
       "      <td>2023</td>\n",
       "      <td>Nuclear</td>\n",
       "      <td>0.000</td>\n",
       "    </tr>\n",
       "    <tr>\n",
       "      <th>1</th>\n",
       "      <td>Benin</td>\n",
       "      <td>2022</td>\n",
       "      <td>Nuclear</td>\n",
       "      <td>0.000</td>\n",
       "    </tr>\n",
       "    <tr>\n",
       "      <th>2</th>\n",
       "      <td>Benin</td>\n",
       "      <td>2021</td>\n",
       "      <td>Nuclear</td>\n",
       "      <td>0.000</td>\n",
       "    </tr>\n",
       "    <tr>\n",
       "      <th>3</th>\n",
       "      <td>Benin</td>\n",
       "      <td>2020</td>\n",
       "      <td>Nuclear</td>\n",
       "      <td>0.000</td>\n",
       "    </tr>\n",
       "    <tr>\n",
       "      <th>4</th>\n",
       "      <td>Benin</td>\n",
       "      <td>2019</td>\n",
       "      <td>Nuclear</td>\n",
       "      <td>0.000</td>\n",
       "    </tr>\n",
       "    <tr>\n",
       "      <th>...</th>\n",
       "      <td>...</td>\n",
       "      <td>...</td>\n",
       "      <td>...</td>\n",
       "      <td>...</td>\n",
       "    </tr>\n",
       "    <tr>\n",
       "      <th>95</th>\n",
       "      <td>Benin</td>\n",
       "      <td>2016</td>\n",
       "      <td>Natural gas</td>\n",
       "      <td>0.007</td>\n",
       "    </tr>\n",
       "    <tr>\n",
       "      <th>96</th>\n",
       "      <td>Benin</td>\n",
       "      <td>2015</td>\n",
       "      <td>Natural gas</td>\n",
       "      <td>0.111</td>\n",
       "    </tr>\n",
       "    <tr>\n",
       "      <th>97</th>\n",
       "      <td>Benin</td>\n",
       "      <td>2014</td>\n",
       "      <td>Natural gas</td>\n",
       "      <td>0.104</td>\n",
       "    </tr>\n",
       "    <tr>\n",
       "      <th>98</th>\n",
       "      <td>Benin</td>\n",
       "      <td>2013</td>\n",
       "      <td>Natural gas</td>\n",
       "      <td>0.038</td>\n",
       "    </tr>\n",
       "    <tr>\n",
       "      <th>99</th>\n",
       "      <td>Benin</td>\n",
       "      <td>2012</td>\n",
       "      <td>Natural gas</td>\n",
       "      <td>0.000</td>\n",
       "    </tr>\n",
       "  </tbody>\n",
       "</table>\n",
       "<p>100 rows × 4 columns</p>\n",
       "</div>"
      ],
      "text/plain": [
       "   countryRegionName  period  productName  value\n",
       "0              Benin    2023      Nuclear  0.000\n",
       "1              Benin    2022      Nuclear  0.000\n",
       "2              Benin    2021      Nuclear  0.000\n",
       "3              Benin    2020      Nuclear  0.000\n",
       "4              Benin    2019      Nuclear  0.000\n",
       "..               ...     ...          ...    ...\n",
       "95             Benin    2016  Natural gas  0.007\n",
       "96             Benin    2015  Natural gas  0.111\n",
       "97             Benin    2014  Natural gas  0.104\n",
       "98             Benin    2013  Natural gas  0.038\n",
       "99             Benin    2012  Natural gas  0.000\n",
       "\n",
       "[100 rows x 4 columns]"
      ]
     },
     "execution_count": 2,
     "metadata": {},
     "output_type": "execute_result"
    }
   ],
   "source": [
    "# import du fichier excel\n",
    "data = pd.read_excel('/Users/yibtv/Espace-travail/projet_jhipster/data/raw/prod_elect_fromEIA.xlsx')\n",
    "# affichage\n",
    "data.head(100)"
   ]
  },
  {
   "cell_type": "code",
   "execution_count": 3,
   "metadata": {},
   "outputs": [
    {
     "data": {
      "text/html": [
       "<div>\n",
       "<style scoped>\n",
       "    .dataframe tbody tr th:only-of-type {\n",
       "        vertical-align: middle;\n",
       "    }\n",
       "\n",
       "    .dataframe tbody tr th {\n",
       "        vertical-align: top;\n",
       "    }\n",
       "\n",
       "    .dataframe thead th {\n",
       "        text-align: right;\n",
       "    }\n",
       "</style>\n",
       "<table border=\"1\" class=\"dataframe\">\n",
       "  <thead>\n",
       "    <tr style=\"text-align: right;\">\n",
       "      <th></th>\n",
       "      <th>country</th>\n",
       "      <th>year</th>\n",
       "      <th>technology</th>\n",
       "      <th>value(GWh)</th>\n",
       "    </tr>\n",
       "  </thead>\n",
       "  <tbody>\n",
       "    <tr>\n",
       "      <th>0</th>\n",
       "      <td>Benin</td>\n",
       "      <td>2023</td>\n",
       "      <td>Nuclear</td>\n",
       "      <td>0.0</td>\n",
       "    </tr>\n",
       "    <tr>\n",
       "      <th>1</th>\n",
       "      <td>Benin</td>\n",
       "      <td>2022</td>\n",
       "      <td>Nuclear</td>\n",
       "      <td>0.0</td>\n",
       "    </tr>\n",
       "    <tr>\n",
       "      <th>2</th>\n",
       "      <td>Benin</td>\n",
       "      <td>2021</td>\n",
       "      <td>Nuclear</td>\n",
       "      <td>0.0</td>\n",
       "    </tr>\n",
       "    <tr>\n",
       "      <th>3</th>\n",
       "      <td>Benin</td>\n",
       "      <td>2020</td>\n",
       "      <td>Nuclear</td>\n",
       "      <td>0.0</td>\n",
       "    </tr>\n",
       "    <tr>\n",
       "      <th>4</th>\n",
       "      <td>Benin</td>\n",
       "      <td>2019</td>\n",
       "      <td>Nuclear</td>\n",
       "      <td>0.0</td>\n",
       "    </tr>\n",
       "    <tr>\n",
       "      <th>...</th>\n",
       "      <td>...</td>\n",
       "      <td>...</td>\n",
       "      <td>...</td>\n",
       "      <td>...</td>\n",
       "    </tr>\n",
       "    <tr>\n",
       "      <th>95</th>\n",
       "      <td>Benin</td>\n",
       "      <td>2016</td>\n",
       "      <td>Natural gas</td>\n",
       "      <td>7.0</td>\n",
       "    </tr>\n",
       "    <tr>\n",
       "      <th>96</th>\n",
       "      <td>Benin</td>\n",
       "      <td>2015</td>\n",
       "      <td>Natural gas</td>\n",
       "      <td>111.0</td>\n",
       "    </tr>\n",
       "    <tr>\n",
       "      <th>97</th>\n",
       "      <td>Benin</td>\n",
       "      <td>2014</td>\n",
       "      <td>Natural gas</td>\n",
       "      <td>104.0</td>\n",
       "    </tr>\n",
       "    <tr>\n",
       "      <th>98</th>\n",
       "      <td>Benin</td>\n",
       "      <td>2013</td>\n",
       "      <td>Natural gas</td>\n",
       "      <td>38.0</td>\n",
       "    </tr>\n",
       "    <tr>\n",
       "      <th>99</th>\n",
       "      <td>Benin</td>\n",
       "      <td>2012</td>\n",
       "      <td>Natural gas</td>\n",
       "      <td>0.0</td>\n",
       "    </tr>\n",
       "  </tbody>\n",
       "</table>\n",
       "<p>100 rows × 4 columns</p>\n",
       "</div>"
      ],
      "text/plain": [
       "   country  year   technology  value(GWh)\n",
       "0    Benin  2023      Nuclear         0.0\n",
       "1    Benin  2022      Nuclear         0.0\n",
       "2    Benin  2021      Nuclear         0.0\n",
       "3    Benin  2020      Nuclear         0.0\n",
       "4    Benin  2019      Nuclear         0.0\n",
       "..     ...   ...          ...         ...\n",
       "95   Benin  2016  Natural gas         7.0\n",
       "96   Benin  2015  Natural gas       111.0\n",
       "97   Benin  2014  Natural gas       104.0\n",
       "98   Benin  2013  Natural gas        38.0\n",
       "99   Benin  2012  Natural gas         0.0\n",
       "\n",
       "[100 rows x 4 columns]"
      ]
     },
     "execution_count": 3,
     "metadata": {},
     "output_type": "execute_result"
    }
   ],
   "source": [
    "#changement des noms de colonne \n",
    "data = data.rename (columns={\n",
    "    'countryRegionName':  'country',\n",
    "    'period':'year',\n",
    "    'productName':'technology',\n",
    "    'value': 'value(GWh)'\n",
    "    })\n",
    "\n",
    "\n",
    "# Conversion de billion kWh en GWh\n",
    "data['value(GWh)'] = data['value(GWh)'] * 1000 \n",
    "\n",
    "data.head(100)"
   ]
  },
  {
   "cell_type": "markdown",
   "id": "d382ebd9",
   "metadata": {},
   "source": [
    "Normalisation de noms de certain pays pour correspondre a la base de donnée"
   ]
  },
  {
   "cell_type": "code",
   "execution_count": 4,
   "id": "e554711e",
   "metadata": {},
   "outputs": [
    {
     "name": "stdout",
     "output_type": "stream",
     "text": [
      "['Benin' 'Burkina_faso' 'Cape_verde' 'Cote_d_ivoir' 'Gambia' 'Ghana'\n",
      " 'Guinea' 'Guinea_bissau' 'Liberia' 'Mali' 'Mauritania' 'Niger' 'Nigeria'\n",
      " 'Senegal' 'Sierra_leone' 'Togo']\n"
     ]
    }
   ],
   "source": [
    "country_mapping = {\n",
    "    'Burkina Faso': 'Burkina_faso',\n",
    "    'Cabo Verde':'Cape_verde',\n",
    "    \"Cote d'Ivoire\":'Cote_d_ivoir',\n",
    "    'Gambia, The':'Gambia',\n",
    "    'Guinea-Bissau':'Guinea_bissau',\n",
    "    'Sierra Leone': 'Sierra_leone',\n",
    "}\n",
    "\n",
    "# Remplacement des termes dans la colonne 'Technology'\n",
    "data['country'] = data['country'].replace(country_mapping)\n",
    "\n",
    "print(data.country.unique())"
   ]
  },
  {
   "cell_type": "markdown",
   "id": "0b2a4725",
   "metadata": {},
   "source": [
    "Normalisation des noms des technologies pour une correspondance avec la base de données"
   ]
  },
  {
   "cell_type": "code",
   "execution_count": 8,
   "id": "ca8144fe",
   "metadata": {},
   "outputs": [
    {
     "name": "stdout",
     "output_type": "stream",
     "text": [
      "<class 'pandas.core.frame.DataFrame'>\n",
      "RangeIndex: 5544 entries, 0 to 5543\n",
      "Data columns (total 4 columns):\n",
      " #   Column      Non-Null Count  Dtype  \n",
      "---  ------      --------------  -----  \n",
      " 0   country     5544 non-null   object \n",
      " 1   year        5544 non-null   int64  \n",
      " 2   technology  5544 non-null   object \n",
      " 3   value(GWh)  4584 non-null   float64\n",
      "dtypes: float64(1), int64(1), object(2)\n",
      "memory usage: 173.4+ KB\n"
     ]
    }
   ],
   "source": [
    "data.info()"
   ]
  },
  {
   "cell_type": "code",
   "execution_count": 5,
   "id": "f4337600",
   "metadata": {},
   "outputs": [
    {
     "name": "stdout",
     "output_type": "stream",
     "text": [
      "['p_nuclear' 'p_coal' 'p_gas' 'Oil' 'p_solar' 'p_wind' 'p_biomass']\n"
     ]
    }
   ],
   "source": [
    "tech_mapping = {\n",
    "    'Nuclear':'p_nuclear',\n",
    "    'Solar': 'p_solar',\n",
    "    'Natural gas': 'p_gas',\n",
    "    'Oils': 'p_oil',\n",
    "    'Coal': 'p_coal',\n",
    "    'Wind': 'p_wind',\n",
    "    'Hydroelectricity': 'p_nuclear',\n",
    "    'Biomass and waste':'p_biomass'\n",
    "}\n",
    "\n",
    "# Remplacement des termes dans la colonne 'Technology'\n",
    "data['technology'] = data['technology'].replace(tech_mapping)\n",
    "\n",
    "print(data.technology.unique())\n"
   ]
  },
  {
   "cell_type": "markdown",
   "id": "f6d4c91f",
   "metadata": {},
   "source": [
    "Verification des donnée du Senegal"
   ]
  },
  {
   "cell_type": "code",
   "execution_count": 6,
   "id": "2cff5181",
   "metadata": {},
   "outputs": [
    {
     "name": "stdout",
     "output_type": "stream",
     "text": [
      "\n",
      "Total production d'electricité :\n",
      "6070.4\n"
     ]
    }
   ],
   "source": [
    "senegal_data = data[data['country']== 'Senegal']\n",
    "senegal_data_2020 = senegal_data[senegal_data['year']== 2020]\n",
    "\n",
    "senegal_data_2020.head(100)\n",
    "\n",
    "print(\"\\nTotal production d'electricité :\")\n",
    "print(senegal_data_2020['value(GWh)'].sum())"
   ]
  },
  {
   "cell_type": "markdown",
   "id": "56587283",
   "metadata": {},
   "source": [
    "# Sauvegarde du Dataset apres transformation dans le repertoir des données pret a etre charger dans la base de donnée"
   ]
  },
  {
   "cell_type": "code",
   "execution_count": 7,
   "id": "22e31a3c",
   "metadata": {},
   "outputs": [
    {
     "name": "stdout",
     "output_type": "stream",
     "text": [
      "Données sauvegardées avec succès dans /Users/yibtv/Espace-travail/projet_jhipster/data/processed/prod_elect_processed.xlsx\n"
     ]
    }
   ],
   "source": [
    "import os\n",
    "import pandas as pd\n",
    "\n",
    "# Définir le chemin du fichier\n",
    "output_dir = \"/Users/yibtv/Espace-travail/projet_jhipster/data/processed\"  # Chemin absolu sur macOS/Linux\n",
    "output_file = os.path.join(output_dir, \"prod_elect_processed.xlsx\")\n",
    "\n",
    "# Créer le répertoire s'il n'existe pas\n",
    "os.makedirs(output_dir, exist_ok=True)\n",
    "\n",
    "# Sauvegarder dans un fichier Excel\n",
    "try:\n",
    "    data.to_excel(output_file, index=False)\n",
    "    print(\"Données sauvegardées avec succès dans\", output_file)\n",
    "except Exception as e:\n",
    "    print(f\"Erreur lors de la sauvegarde : {e}\")"
   ]
  }
 ],
 "metadata": {
  "kernelspec": {
   "display_name": "venv",
   "language": "python",
   "name": "python3"
  },
  "language_info": {
   "codemirror_mode": {
    "name": "ipython",
    "version": 3
   },
   "file_extension": ".py",
   "mimetype": "text/x-python",
   "name": "python",
   "nbconvert_exporter": "python",
   "pygments_lexer": "ipython3",
   "version": "3.11.7"
  }
 },
 "nbformat": 4,
 "nbformat_minor": 5
}
